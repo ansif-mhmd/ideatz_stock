{
  "nbformat": 4,
  "nbformat_minor": 0,
  "metadata": {
    "colab": {
      "name": "instagram_bot.ipynb",
      "provenance": [],
      "collapsed_sections": [],
      "authorship_tag": "ABX9TyMbp+UZgWn6TZ2sShd54hTo",
      "include_colab_link": true
    },
    "kernelspec": {
      "name": "python3",
      "display_name": "Python 3"
    },
    "language_info": {
      "name": "python"
    }
  },
  "cells": [
    {
      "cell_type": "markdown",
      "metadata": {
        "id": "view-in-github",
        "colab_type": "text"
      },
      "source": [
        "<a href=\"https://colab.research.google.com/github/ansif-mhmd/ideatz_stock/blob/main/instagram_bot.ipynb\" target=\"_parent\"><img src=\"https://colab.research.google.com/assets/colab-badge.svg\" alt=\"Open In Colab\"/></a>"
      ]
    },
    {
      "cell_type": "code",
      "metadata": {
        "colab": {
          "base_uri": "https://localhost:8080/",
          "height": 1000
        },
        "id": "T9dlfUNsWdSC",
        "outputId": "e2c31e62-c243-4475-a834-b324cda66e26"
      },
      "source": [
        "!pip install instabot"
      ],
      "execution_count": null,
      "outputs": [
        {
          "output_type": "stream",
          "name": "stdout",
          "text": [
            "Collecting instabot\n",
            "  Downloading instabot-0.117.0.tar.gz (84 kB)\n",
            "\u001b[K     |████████████████████████████████| 84 kB 1.5 MB/s \n",
            "\u001b[?25hRequirement already satisfied: certifi>=2019.11.28 in /usr/local/lib/python3.7/dist-packages (from instabot) (2021.5.30)\n",
            "Requirement already satisfied: chardet>=3.0.4 in /usr/local/lib/python3.7/dist-packages (from instabot) (3.0.4)\n",
            "Collecting future>=0.18.2\n",
            "  Downloading future-0.18.2.tar.gz (829 kB)\n",
            "\u001b[K     |████████████████████████████████| 829 kB 20.0 MB/s \n",
            "\u001b[?25hCollecting huepy>=1.2.1\n",
            "  Downloading huepy-1.2.1.tar.gz (15 kB)\n",
            "Requirement already satisfied: idna>=2.8 in /usr/local/lib/python3.7/dist-packages (from instabot) (2.10)\n",
            "Requirement already satisfied: pysocks>=1.7.1 in /usr/local/lib/python3.7/dist-packages (from instabot) (1.7.1)\n",
            "Collecting pytz>=2019.3\n",
            "  Downloading pytz-2021.1-py2.py3-none-any.whl (510 kB)\n",
            "\u001b[K     |████████████████████████████████| 510 kB 39.9 MB/s \n",
            "\u001b[?25hRequirement already satisfied: requests>=2.22.0 in /usr/local/lib/python3.7/dist-packages (from instabot) (2.23.0)\n",
            "Collecting requests-toolbelt>=0.9.1\n",
            "  Downloading requests_toolbelt-0.9.1-py2.py3-none-any.whl (54 kB)\n",
            "\u001b[K     |████████████████████████████████| 54 kB 2.7 MB/s \n",
            "\u001b[?25hCollecting responses>=0.10.9\n",
            "  Downloading responses-0.13.4-py2.py3-none-any.whl (25 kB)\n",
            "Collecting schedule>=0.6.0\n",
            "  Downloading schedule-1.1.0-py2.py3-none-any.whl (10 kB)\n",
            "Requirement already satisfied: six>=1.14.0 in /usr/local/lib/python3.7/dist-packages (from instabot) (1.15.0)\n",
            "Requirement already satisfied: tqdm>=4.41.1 in /usr/local/lib/python3.7/dist-packages (from instabot) (4.62.0)\n",
            "Collecting urllib3>=1.25.7\n",
            "  Downloading urllib3-1.26.6-py2.py3-none-any.whl (138 kB)\n",
            "\u001b[K     |████████████████████████████████| 138 kB 71.4 MB/s \n",
            "\u001b[?25hCollecting mock>=3.0.5\n",
            "  Downloading mock-4.0.3-py3-none-any.whl (28 kB)\n",
            "Collecting moviepy>=1.0.1\n",
            "  Downloading moviepy-1.0.3.tar.gz (388 kB)\n",
            "\u001b[K     |████████████████████████████████| 388 kB 62.7 MB/s \n",
            "\u001b[?25hRequirement already satisfied: Pillow>=6.2.2 in /usr/local/lib/python3.7/dist-packages (from instabot) (7.1.2)\n",
            "Collecting pytest>=4.6.9\n",
            "  Downloading pytest-6.2.5-py3-none-any.whl (280 kB)\n",
            "\u001b[K     |████████████████████████████████| 280 kB 65.5 MB/s \n",
            "\u001b[?25hRequirement already satisfied: decorator<5.0,>=4.0.2 in /usr/local/lib/python3.7/dist-packages (from moviepy>=1.0.1->instabot) (4.4.2)\n",
            "Collecting proglog<=1.0.0\n",
            "  Downloading proglog-0.1.9.tar.gz (10 kB)\n",
            "Requirement already satisfied: numpy>=1.17.3 in /usr/local/lib/python3.7/dist-packages (from moviepy>=1.0.1->instabot) (1.19.5)\n",
            "Collecting imageio<3.0,>=2.5\n",
            "  Downloading imageio-2.9.0-py3-none-any.whl (3.3 MB)\n",
            "\u001b[K     |████████████████████████████████| 3.3 MB 43.1 MB/s \n",
            "\u001b[?25hCollecting imageio_ffmpeg>=0.2.0\n",
            "  Downloading imageio_ffmpeg-0.4.5-py3-none-manylinux2010_x86_64.whl (26.9 MB)\n",
            "\u001b[K     |████████████████████████████████| 26.9 MB 91 kB/s \n",
            "\u001b[?25hRequirement already satisfied: attrs>=19.2.0 in /usr/local/lib/python3.7/dist-packages (from pytest>=4.6.9->instabot) (21.2.0)\n",
            "Requirement already satisfied: packaging in /usr/local/lib/python3.7/dist-packages (from pytest>=4.6.9->instabot) (21.0)\n",
            "Collecting pluggy<2.0,>=0.12\n",
            "  Downloading pluggy-1.0.0-py2.py3-none-any.whl (13 kB)\n",
            "Requirement already satisfied: importlib-metadata>=0.12 in /usr/local/lib/python3.7/dist-packages (from pytest>=4.6.9->instabot) (4.6.4)\n",
            "Requirement already satisfied: iniconfig in /usr/local/lib/python3.7/dist-packages (from pytest>=4.6.9->instabot) (1.1.1)\n",
            "Requirement already satisfied: toml in /usr/local/lib/python3.7/dist-packages (from pytest>=4.6.9->instabot) (0.10.2)\n",
            "Requirement already satisfied: py>=1.8.2 in /usr/local/lib/python3.7/dist-packages (from pytest>=4.6.9->instabot) (1.10.0)\n",
            "Requirement already satisfied: zipp>=0.5 in /usr/local/lib/python3.7/dist-packages (from importlib-metadata>=0.12->pytest>=4.6.9->instabot) (3.5.0)\n",
            "Requirement already satisfied: typing-extensions>=3.6.4 in /usr/local/lib/python3.7/dist-packages (from importlib-metadata>=0.12->pytest>=4.6.9->instabot) (3.7.4.3)\n",
            "Collecting urllib3>=1.25.7\n",
            "  Downloading urllib3-1.25.11-py2.py3-none-any.whl (127 kB)\n",
            "\u001b[K     |████████████████████████████████| 127 kB 56.7 MB/s \n",
            "\u001b[?25hRequirement already satisfied: pyparsing>=2.0.2 in /usr/local/lib/python3.7/dist-packages (from packaging->pytest>=4.6.9->instabot) (2.4.7)\n",
            "Building wheels for collected packages: instabot, future, huepy, moviepy, proglog\n",
            "  Building wheel for instabot (setup.py) ... \u001b[?25l\u001b[?25hdone\n",
            "  Created wheel for instabot: filename=instabot-0.117.0-py3-none-any.whl size=101279 sha256=192594aaade0f8d51303846e1c45dd1fb824bceb11b70cc591a7466199b5ef65\n",
            "  Stored in directory: /root/.cache/pip/wheels/4c/81/8b/266bd493c98198edd40fec775aa19f4b4f03eece6800d1a959\n",
            "  Building wheel for future (setup.py) ... \u001b[?25l\u001b[?25hdone\n",
            "  Created wheel for future: filename=future-0.18.2-py3-none-any.whl size=491070 sha256=53517d40838ba98496020b20389f0e42888f95838feee404a104c7bfdf7fd22c\n",
            "  Stored in directory: /root/.cache/pip/wheels/56/b0/fe/4410d17b32f1f0c3cf54cdfb2bc04d7b4b8f4ae377e2229ba0\n",
            "  Building wheel for huepy (setup.py) ... \u001b[?25l\u001b[?25hdone\n",
            "  Created wheel for huepy: filename=huepy-1.2.1-py3-none-any.whl size=27008 sha256=f65650dc6369e8147937279b78bebe4ca200f59c430136fd40b1023e6e7fa7bf\n",
            "  Stored in directory: /root/.cache/pip/wheels/28/2f/37/2b7b6b6985f1c81c9194e198ecf57d3b702edef3696a458b17\n",
            "  Building wheel for moviepy (setup.py) ... \u001b[?25l\u001b[?25hdone\n",
            "  Created wheel for moviepy: filename=moviepy-1.0.3-py3-none-any.whl size=110744 sha256=d1a1310a9e834d252017edae0f7a7fbea1f9dfa2a6f391349e85d9f250089423\n",
            "  Stored in directory: /root/.cache/pip/wheels/56/dc/2b/9cd600d483c04af3353d66623056fc03faed76b7518faae4df\n",
            "  Building wheel for proglog (setup.py) ... \u001b[?25l\u001b[?25hdone\n",
            "  Created wheel for proglog: filename=proglog-0.1.9-py3-none-any.whl size=6157 sha256=5150b6cc22c42a703ba19777fd1cac8b2398e9208b1b042cfa23712fb3cc7479\n",
            "  Stored in directory: /root/.cache/pip/wheels/12/36/1f/dc61e6ac10781d63cf6fa045eb09fa613a667384e12cb6e6e0\n",
            "Successfully built instabot future huepy moviepy proglog\n",
            "Installing collected packages: urllib3, proglog, pluggy, imageio-ffmpeg, imageio, schedule, responses, requests-toolbelt, pytz, pytest, moviepy, mock, huepy, future, instabot\n",
            "  Attempting uninstall: urllib3\n",
            "    Found existing installation: urllib3 1.24.3\n",
            "    Uninstalling urllib3-1.24.3:\n",
            "      Successfully uninstalled urllib3-1.24.3\n",
            "  Attempting uninstall: pluggy\n",
            "    Found existing installation: pluggy 0.7.1\n",
            "    Uninstalling pluggy-0.7.1:\n",
            "      Successfully uninstalled pluggy-0.7.1\n",
            "  Attempting uninstall: imageio\n",
            "    Found existing installation: imageio 2.4.1\n",
            "    Uninstalling imageio-2.4.1:\n",
            "      Successfully uninstalled imageio-2.4.1\n",
            "  Attempting uninstall: pytz\n",
            "    Found existing installation: pytz 2018.9\n",
            "    Uninstalling pytz-2018.9:\n",
            "      Successfully uninstalled pytz-2018.9\n",
            "  Attempting uninstall: pytest\n",
            "    Found existing installation: pytest 3.6.4\n",
            "    Uninstalling pytest-3.6.4:\n",
            "      Successfully uninstalled pytest-3.6.4\n",
            "  Attempting uninstall: moviepy\n",
            "    Found existing installation: moviepy 0.2.3.5\n",
            "    Uninstalling moviepy-0.2.3.5:\n",
            "      Successfully uninstalled moviepy-0.2.3.5\n",
            "  Attempting uninstall: future\n",
            "    Found existing installation: future 0.16.0\n",
            "    Uninstalling future-0.16.0:\n",
            "      Successfully uninstalled future-0.16.0\n",
            "\u001b[31mERROR: pip's dependency resolver does not currently take into account all the packages that are installed. This behaviour is the source of the following dependency conflicts.\n",
            "datascience 0.10.6 requires folium==0.2.1, but you have folium 0.8.3 which is incompatible.\n",
            "albumentations 0.1.12 requires imgaug<0.2.7,>=0.2.5, but you have imgaug 0.2.9 which is incompatible.\u001b[0m\n",
            "Successfully installed future-0.18.2 huepy-1.2.1 imageio-2.9.0 imageio-ffmpeg-0.4.5 instabot-0.117.0 mock-4.0.3 moviepy-1.0.3 pluggy-1.0.0 proglog-0.1.9 pytest-6.2.5 pytz-2021.1 requests-toolbelt-0.9.1 responses-0.13.4 schedule-1.1.0 urllib3-1.25.11\n"
          ]
        },
        {
          "output_type": "display_data",
          "data": {
            "application/vnd.colab-display-data+json": {
              "pip_warning": {
                "packages": [
                  "pytz"
                ]
              }
            }
          },
          "metadata": {}
        }
      ]
    },
    {
      "cell_type": "code",
      "metadata": {
        "id": "ugrWh7dSgr66"
      },
      "source": [
        "import re\n",
        "import requests\n",
        "url = 'https://free-proxy-list.net/'\n",
        "headers = {'User-Agent': 'Mozilla/5.0 (Macintosh; Intel Mac OS X 10_11_5) AppleWebKit/537.36 (KHTML, like Gecko) Cafari/537.36'}\n",
        "source = str(requests.get(url, headers=headers, timeout=10).text)\n",
        "data = [list(filter(None, i))[0] for i in re.findall('<td class=\"hm\">(.*?)</td>|<td>(.*?)</td>', source)]\n",
        "groupings = [dict(zip(['ip', 'port', 'code', 'using_anonymous'], data[i:i+4])) for i in range(0, len(data), 4)]\n",
        "final_groupings = [{'full_ip':\"{ip}:{port}\".format(**i)} for i in groupings]"
      ],
      "execution_count": null,
      "outputs": []
    },
    {
      "cell_type": "code",
      "metadata": {
        "colab": {
          "base_uri": "https://localhost:8080/"
        },
        "id": "EIERfei_hExk",
        "outputId": "5b676df9-ff66-42a5-e723-71b74550d3ca"
      },
      "source": [
        "final_groupings"
      ],
      "execution_count": null,
      "outputs": [
        {
          "output_type": "execute_result",
          "data": {
            "text/plain": [
              "[{'full_ip': '91.234.127.222:53281'},\n",
              " {'full_ip': '168.0.86.146:8080'},\n",
              " {'full_ip': '31.131.67.14:8080'},\n",
              " {'full_ip': '64.124.38.140:8080'},\n",
              " {'full_ip': '196.22.221.97:58893'},\n",
              " {'full_ip': '195.138.73.54:44017'},\n",
              " {'full_ip': '91.206.148.243:61410'},\n",
              " {'full_ip': '190.214.27.106:48586'},\n",
              " {'full_ip': '200.105.215.18:33630'},\n",
              " {'full_ip': '188.120.246.81:8118'},\n",
              " {'full_ip': '202.14.80.2:3128'},\n",
              " {'full_ip': '89.250.149.114:60981'},\n",
              " {'full_ip': '73.237.241.167:8118'},\n",
              " {'full_ip': '104.168.215.150:8888'},\n",
              " {'full_ip': '47.88.21.147:3128'},\n",
              " {'full_ip': '195.7.10.141:8080'},\n",
              " {'full_ip': '103.250.166.17:6666'},\n",
              " {'full_ip': '43.255.113.232:80'},\n",
              " {'full_ip': '62.182.114.164:60731'},\n",
              " {'full_ip': '154.79.252.70:53281'},\n",
              " {'full_ip': '118.185.100.249:55207'},\n",
              " {'full_ip': '8.208.102.152:1088'},\n",
              " {'full_ip': '186.29.163.97:49787'},\n",
              " {'full_ip': '152.200.142.100:8080'},\n",
              " {'full_ip': '193.226.199.106:9090'},\n",
              " {'full_ip': '175.100.72.95:57938'},\n",
              " {'full_ip': '5.190.29.161:8080'},\n",
              " {'full_ip': '47.243.23.114:8080'},\n",
              " {'full_ip': '202.57.55.242:45112'},\n",
              " {'full_ip': '35.235.83.160:3128'},\n",
              " {'full_ip': '36.67.66.100:30142'},\n",
              " {'full_ip': '188.94.35.207:41258'},\n",
              " {'full_ip': '177.66.112.221:57945'},\n",
              " {'full_ip': '85.30.215.48:32946'},\n",
              " {'full_ip': '47.254.94.236:1088'},\n",
              " {'full_ip': '81.91.144.190:55443'},\n",
              " {'full_ip': '3.113.33.235:8118'},\n",
              " {'full_ip': '95.0.94.170:80'},\n",
              " {'full_ip': '172.107.159.194:443'},\n",
              " {'full_ip': '187.237.121.46:80'},\n",
              " {'full_ip': '103.129.80.138:80'},\n",
              " {'full_ip': '202.154.180.53:46717'},\n",
              " {'full_ip': '27.120.88.44:12345'},\n",
              " {'full_ip': '103.217.179.185:3128'},\n",
              " {'full_ip': '205.185.118.53:80'},\n",
              " {'full_ip': '192.109.165.76:80'},\n",
              " {'full_ip': '192.109.165.191:80'},\n",
              " {'full_ip': '74.141.186.101:80'},\n",
              " {'full_ip': '115.84.246.50:80'},\n",
              " {'full_ip': '149.172.255.8:8080'},\n",
              " {'full_ip': '109.193.195.10:8080'},\n",
              " {'full_ip': '46.223.255.10:8080'},\n",
              " {'full_ip': '85.216.127.178:3128'},\n",
              " {'full_ip': '175.101.80.138:8080'},\n",
              " {'full_ip': '36.89.229.97:59707'},\n",
              " {'full_ip': '103.3.147.147:80'},\n",
              " {'full_ip': '221.125.138.189:8380'},\n",
              " {'full_ip': '111.92.164.242:50249'},\n",
              " {'full_ip': '112.78.169.98:36963'},\n",
              " {'full_ip': '8.208.81.46:1088'},\n",
              " {'full_ip': '103.11.106.70:8181'},\n",
              " {'full_ip': '119.252.168.50:53281'},\n",
              " {'full_ip': '77.238.79.111:8080'},\n",
              " {'full_ip': '177.125.169.6:55443'},\n",
              " {'full_ip': '203.33.113.104:80'},\n",
              " {'full_ip': '200.29.109.112:44749'},\n",
              " {'full_ip': '45.121.216.219:55443'},\n",
              " {'full_ip': '190.2.212.84:8080'},\n",
              " {'full_ip': '209.91.184.153:80'},\n",
              " {'full_ip': '5.10.27.146:3128'},\n",
              " {'full_ip': '5.9.201.65:80'},\n",
              " {'full_ip': '87.137.71.9:80'},\n",
              " {'full_ip': '170.82.118.45:8083'},\n",
              " {'full_ip': '51.91.109.83:80'},\n",
              " {'full_ip': '170.82.116.109:8083'},\n",
              " {'full_ip': '85.196.133.98:8080'},\n",
              " {'full_ip': '47.91.44.217:8000'},\n",
              " {'full_ip': '137.74.65.101:80'},\n",
              " {'full_ip': '47.243.68.117:8080'},\n",
              " {'full_ip': '200.185.55.121:9090'},\n",
              " {'full_ip': '47.75.132.50:8118'},\n",
              " {'full_ip': '8.208.82.169:1088'},\n",
              " {'full_ip': '47.243.177.149:80'},\n",
              " {'full_ip': '138.121.216.137:8083'},\n",
              " {'full_ip': '200.148.169.234:8080'},\n",
              " {'full_ip': '41.79.191.182:80'},\n",
              " {'full_ip': '103.1.184.238:3128'},\n",
              " {'full_ip': '45.117.77.41:80'},\n",
              " {'full_ip': '154.16.3.86:3128'},\n",
              " {'full_ip': '36.91.149.62:8080'},\n",
              " {'full_ip': '43.225.66.188:3128'},\n",
              " {'full_ip': '191.241.226.230:53281'},\n",
              " {'full_ip': '95.217.168.246:8888'},\n",
              " {'full_ip': '165.227.33.90:8081'},\n",
              " {'full_ip': '47.56.69.11:8000'},\n",
              " {'full_ip': '185.61.152.137:8080'},\n",
              " {'full_ip': '47.242.228.195:80'},\n",
              " {'full_ip': '200.116.226.210:43049'},\n",
              " {'full_ip': '18.159.210.15:9300'},\n",
              " {'full_ip': '41.33.20.5:3128'},\n",
              " {'full_ip': '170.239.85.208:80'},\n",
              " {'full_ip': '62.252.146.74:8080'},\n",
              " {'full_ip': '80.154.203.122:8080'},\n",
              " {'full_ip': '185.108.141.114:8080'},\n",
              " {'full_ip': '165.225.21.188:80'},\n",
              " {'full_ip': '202.62.67.209:53281'},\n",
              " {'full_ip': '141.101.196.159:3128'},\n",
              " {'full_ip': '103.26.130.156:55443'},\n",
              " {'full_ip': '66.207.192.189:80'},\n",
              " {'full_ip': '103.81.114.182:53281'},\n",
              " {'full_ip': '37.49.127.227:8080'},\n",
              " {'full_ip': '217.8.51.205:3128'},\n",
              " {'full_ip': '89.250.221.106:53281'},\n",
              " {'full_ip': '202.62.84.210:53281'},\n",
              " {'full_ip': '95.208.208.229:8080'},\n",
              " {'full_ip': '103.149.162.194:80'},\n",
              " {'full_ip': '47.242.230.146:8888'},\n",
              " {'full_ip': '80.48.119.28:8080'},\n",
              " {'full_ip': '206.253.164.118:80'},\n",
              " {'full_ip': '172.105.40.232:80'},\n",
              " {'full_ip': '54.166.235.155:8081'},\n",
              " {'full_ip': '103.121.199.142:8080'},\n",
              " {'full_ip': '193.149.225.177:80'},\n",
              " {'full_ip': '88.198.24.108:8080'},\n",
              " {'full_ip': '206.253.164.150:80'},\n",
              " {'full_ip': '82.212.62.23:8080'},\n",
              " {'full_ip': '217.8.51.201:8080'},\n",
              " {'full_ip': '82.212.62.26:8080'},\n",
              " {'full_ip': '149.172.255.10:3128'},\n",
              " {'full_ip': '134.3.255.3:3128'},\n",
              " {'full_ip': '5.252.161.48:8080'},\n",
              " {'full_ip': '114.7.193.213:8080'},\n",
              " {'full_ip': '192.109.165.72:80'},\n",
              " {'full_ip': '193.149.225.9:80'},\n",
              " {'full_ip': '69.30.215.230:3128'},\n",
              " {'full_ip': '154.16.63.16:3128'},\n",
              " {'full_ip': '193.149.225.51:80'},\n",
              " {'full_ip': '192.109.165.222:80'},\n",
              " {'full_ip': '193.149.225.61:80'},\n",
              " {'full_ip': '192.109.165.101:80'},\n",
              " {'full_ip': '194.5.193.183:80'},\n",
              " {'full_ip': '109.169.86.220:80'},\n",
              " {'full_ip': '94.74.180.8:8080'},\n",
              " {'full_ip': '178.74.103.46:8080'},\n",
              " {'full_ip': '192.109.165.246:80'},\n",
              " {'full_ip': '176.9.75.42:8080'},\n",
              " {'full_ip': '185.170.215.228:80'},\n",
              " {'full_ip': '192.109.165.144:80'},\n",
              " {'full_ip': '193.149.225.103:80'},\n",
              " {'full_ip': '46.4.96.137:3128'},\n",
              " {'full_ip': '192.109.165.239:80'},\n",
              " {'full_ip': '192.109.165.8:80'},\n",
              " {'full_ip': '193.149.225.145:80'},\n",
              " {'full_ip': '88.198.50.103:8080'},\n",
              " {'full_ip': '102.129.249.120:8080'},\n",
              " {'full_ip': '191.96.42.80:8080'},\n",
              " {'full_ip': '139.59.1.14:8080'},\n",
              " {'full_ip': '128.199.202.122:3128'},\n",
              " {'full_ip': '167.71.5.83:8080'},\n",
              " {'full_ip': '198.199.86.11:3128'},\n",
              " {'full_ip': '5.39.17.96:80'},\n",
              " {'full_ip': '47.88.7.18:8088'},\n",
              " {'full_ip': '192.109.165.98:80'},\n",
              " {'full_ip': '193.149.225.7:80'},\n",
              " {'full_ip': '192.109.165.181:80'},\n",
              " {'full_ip': '192.109.165.100:80'},\n",
              " {'full_ip': '193.149.225.106:80'},\n",
              " {'full_ip': '117.54.11.82:3128'},\n",
              " {'full_ip': '202.212.123.44:80'},\n",
              " {'full_ip': '46.5.252.70:8080'},\n",
              " {'full_ip': '193.149.225.119:80'},\n",
              " {'full_ip': '176.9.119.170:8080'},\n",
              " {'full_ip': '185.17.134.149:45984'},\n",
              " {'full_ip': '201.62.56.49:35816'},\n",
              " {'full_ip': '185.157.161.85:8118'},\n",
              " {'full_ip': '182.52.51.10:61124'},\n",
              " {'full_ip': '103.209.64.19:6666'},\n",
              " {'full_ip': '213.108.5.224:3128'},\n",
              " {'full_ip': '170.82.118.233:8083'},\n",
              " {'full_ip': '165.232.66.88:8118'},\n",
              " {'full_ip': '191.103.219.225:48612'},\n",
              " {'full_ip': '188.168.56.82:55443'},\n",
              " {'full_ip': '116.251.216.95:80'},\n",
              " {'full_ip': '187.111.160.29:40098'},\n",
              " {'full_ip': '46.229.67.198:47437'},\n",
              " {'full_ip': '43.129.22.98:8081'},\n",
              " {'full_ip': '41.222.209.14:808'},\n",
              " {'full_ip': '176.56.107.171:51528'},\n",
              " {'full_ip': '176.119.134.202:23500'},\n",
              " {'full_ip': '169.57.1.84:8123'},\n",
              " {'full_ip': '119.81.189.194:80'},\n",
              " {'full_ip': '92.118.92.107:8181'},\n",
              " {'full_ip': '189.240.60.168:8080'},\n",
              " {'full_ip': '154.79.254.178:54275'},\n",
              " {'full_ip': '137.74.112.21:80'},\n",
              " {'full_ip': '116.12.236.210:8080'},\n",
              " {'full_ip': '82.64.151.182:80'},\n",
              " {'full_ip': '58.84.191.233:53281'},\n",
              " {'full_ip': '217.79.181.109:443'},\n",
              " {'full_ip': '195.53.49.11:3128'},\n",
              " {'full_ip': '5.9.112.247:3128'},\n",
              " {'full_ip': '104.197.219.208:3128'},\n",
              " {'full_ip': '45.228.77.247:999'},\n",
              " {'full_ip': '79.115.151.247:53281'},\n",
              " {'full_ip': '36.66.16.193:8080'},\n",
              " {'full_ip': '177.152.96.33:8083'},\n",
              " {'full_ip': '89.97.79.251:80'},\n",
              " {'full_ip': '50.192.195.69:52018'},\n",
              " {'full_ip': '187.190.64.42:31442'},\n",
              " {'full_ip': '116.90.229.186:35561'},\n",
              " {'full_ip': '2.179.193.146:80'},\n",
              " {'full_ip': '45.136.53.230:8080'},\n",
              " {'full_ip': '159.65.5.141:65534'},\n",
              " {'full_ip': '41.85.191.14:57797'},\n",
              " {'full_ip': '13.114.160.78:80'},\n",
              " {'full_ip': '213.230.90.106:3128'},\n",
              " {'full_ip': '85.216.127.180:8080'},\n",
              " {'full_ip': '18.216.1.228:80'},\n",
              " {'full_ip': '52.205.44.116:8888'},\n",
              " {'full_ip': '191.100.20.14:8080'},\n",
              " {'full_ip': '103.57.11.106:55443'},\n",
              " {'full_ip': '114.199.80.100:8182'},\n",
              " {'full_ip': '125.239.193.183:8080'},\n",
              " {'full_ip': '89.40.48.186:8080'},\n",
              " {'full_ip': '196.216.220.204:36739'},\n",
              " {'full_ip': '66.70.229.130:43567'},\n",
              " {'full_ip': '103.130.4.25:55443'},\n",
              " {'full_ip': '190.217.1.101:32192'},\n",
              " {'full_ip': '187.94.16.59:39665'},\n",
              " {'full_ip': '88.132.34.230:53281'},\n",
              " {'full_ip': '18.132.18.81:80'},\n",
              " {'full_ip': '182.16.103.192:3128'},\n",
              " {'full_ip': '124.41.240.96:55443'},\n",
              " {'full_ip': '182.176.149.66:22800'},\n",
              " {'full_ip': '103.241.227.100:6666'},\n",
              " {'full_ip': '79.143.87.140:9090'},\n",
              " {'full_ip': '94.153.242.174:3128'},\n",
              " {'full_ip': '170.82.118.241:8083'},\n",
              " {'full_ip': '123.200.20.242:58847'},\n",
              " {'full_ip': '86.123.166.109:8080'},\n",
              " {'full_ip': '202.146.232.179:8888'},\n",
              " {'full_ip': '91.89.89.9:8080'},\n",
              " {'full_ip': '45.185.148.9:999'},\n",
              " {'full_ip': '58.8.141.197:8080'},\n",
              " {'full_ip': '103.195.72.161:84'},\n",
              " {'full_ip': '168.228.150.5:47507'},\n",
              " {'full_ip': '92.118.191.156:6667'},\n",
              " {'full_ip': '82.137.244.23:8080'},\n",
              " {'full_ip': '177.126.216.149:60375'},\n",
              " {'full_ip': '191.243.216.1:53281'},\n",
              " {'full_ip': '49.51.207.213:808'},\n",
              " {'full_ip': '154.0.15.166:46547'},\n",
              " {'full_ip': '168.138.211.5:8080'},\n",
              " {'full_ip': '5.202.176.218:8080'},\n",
              " {'full_ip': '103.199.156.33:40049'},\n",
              " {'full_ip': '95.104.54.227:42119'},\n",
              " {'full_ip': '113.254.178.224:8385'},\n",
              " {'full_ip': '72.47.152.224:55443'},\n",
              " {'full_ip': '176.101.89.226:33470'},\n",
              " {'full_ip': '62.68.24.143:8118'},\n",
              " {'full_ip': '140.227.25.56:5678'},\n",
              " {'full_ip': '113.176.81.31:55443'},\n",
              " {'full_ip': '41.254.52.188:8080'},\n",
              " {'full_ip': '212.56.203.114:41043'},\n",
              " {'full_ip': '89.218.5.110:37717'},\n",
              " {'full_ip': '54.93.108.168:9300'},\n",
              " {'full_ip': '109.86.152.78:55443'},\n",
              " {'full_ip': '218.161.36.89:53438'},\n",
              " {'full_ip': '194.213.43.166:60530'},\n",
              " {'full_ip': '36.89.182.193:39382'},\n",
              " {'full_ip': '201.63.80.226:80'},\n",
              " {'full_ip': '45.133.36.25:8080'},\n",
              " {'full_ip': '114.110.21.50:50464'},\n",
              " {'full_ip': '192.109.165.81:80'},\n",
              " {'full_ip': '192.109.165.73:80'},\n",
              " {'full_ip': '168.119.248.93:80'},\n",
              " {'full_ip': '47.242.183.4:8080'},\n",
              " {'full_ip': '51.91.210.72:80'},\n",
              " {'full_ip': '212.156.83.190:8080'},\n",
              " {'full_ip': '105.244.147.187:8080'},\n",
              " {'full_ip': '180.183.99.191:8080'},\n",
              " {'full_ip': '179.1.129.131:999'},\n",
              " {'full_ip': '86.60.62.32:8080'},\n",
              " {'full_ip': '159.224.243.185:37793'},\n",
              " {'full_ip': '36.89.194.113:40252'},\n",
              " {'full_ip': '103.83.118.10:55443'},\n",
              " {'full_ip': '130.193.45.32:8089'},\n",
              " {'full_ip': '52.74.18.115:80'},\n",
              " {'full_ip': '189.204.242.178:8080'},\n",
              " {'full_ip': '124.219.176.139:39589'},\n",
              " {'full_ip': '103.47.66.154:8080'},\n",
              " {'full_ip': '187.45.106.164:3128'},\n",
              " {'full_ip': '213.6.199.94:49044'},\n",
              " {'full_ip': '180.211.183.178:60604'},\n",
              " {'full_ip': '176.98.95.105:32018'},\n",
              " {'full_ip': '187.87.189.252:55443'},\n",
              " {'full_ip': '181.143.157.242:50942'},\n",
              " {'full_ip': '103.123.64.19:8888'},\n",
              " {'full_ip': '79.127.53.67:3128'},\n",
              " {'full_ip': '27.116.51.85:6666'},\n",
              " {'full_ip': '2021-09-04:1514'},\n",
              " {'full_ip': '305:216'},\n",
              " {'full_ip': '2021-09-03:1087'},\n",
              " {'full_ip': '226:189'},\n",
              " {'full_ip': '2021-09-02:1438'},\n",
              " {'full_ip': '324:323'},\n",
              " {'full_ip': '2021-09-01:1198'},\n",
              " {'full_ip': '259:204'},\n",
              " {'full_ip': '2021-08-31:969'},\n",
              " {'full_ip': '235:159'},\n",
              " {'full_ip': '269:218'},\n",
              " {'full_ip': '124:100'},\n",
              " {'full_ip': '41:33'}]"
            ]
          },
          "metadata": {},
          "execution_count": 9
        }
      ]
    },
    {
      "cell_type": "code",
      "metadata": {
        "id": "DoLz-2VfXJZ1"
      },
      "source": [
        "import argparse\n",
        "import os\n",
        "import sys\n",
        "\n",
        "sys.path.append(os.path.join(sys.path[0], \"../\"))\n",
        "from instabot import Bot"
      ],
      "execution_count": null,
      "outputs": []
    },
    {
      "cell_type": "code",
      "metadata": {
        "colab": {
          "base_uri": "https://localhost:8080/"
        },
        "id": "jaI-CowmYNyR",
        "outputId": "6b8f7ec8-0f11-47b0-9ab1-b4c8d54ba6c6"
      },
      "source": [
        "#bot=Bot()\n",
        "#bot.login(username=\"wyn.man\",password=\"Daytena@444\")"
      ],
      "execution_count": null,
      "outputs": [
        {
          "output_type": "stream",
          "name": "stderr",
          "text": [
            "2021-09-04 15:16:35,442 - INFO - Instabot version: 0.117.0 Started\n"
          ]
        }
      ]
    },
    {
      "cell_type": "code",
      "metadata": {
        "colab": {
          "base_uri": "https://localhost:8080/"
        },
        "id": "e72gzGHMlDWj",
        "outputId": "1dfc38bb-aea5-423d-d77f-0080d398e6b6"
      },
      "source": [
        "!pip install kora\n",
        "from kora import console"
      ],
      "execution_count": null,
      "outputs": [
        {
          "output_type": "stream",
          "name": "stdout",
          "text": [
            "Collecting kora\n",
            "  Downloading kora-0.9.19-py3-none-any.whl (57 kB)\n",
            "\u001b[K     |████████████████████████████████| 57 kB 2.1 MB/s \n",
            "\u001b[?25hCollecting fastcore\n",
            "  Downloading fastcore-1.3.26-py3-none-any.whl (56 kB)\n",
            "\u001b[K     |████████████████████████████████| 56 kB 3.0 MB/s \n",
            "\u001b[?25hRequirement already satisfied: ipython in /usr/local/lib/python3.7/dist-packages (from kora) (5.5.0)\n",
            "Requirement already satisfied: packaging in /usr/local/lib/python3.7/dist-packages (from fastcore->kora) (21.0)\n",
            "Requirement already satisfied: pip in /usr/local/lib/python3.7/dist-packages (from fastcore->kora) (21.1.3)\n",
            "Requirement already satisfied: simplegeneric>0.8 in /usr/local/lib/python3.7/dist-packages (from ipython->kora) (0.8.1)\n",
            "Requirement already satisfied: pexpect in /usr/local/lib/python3.7/dist-packages (from ipython->kora) (4.8.0)\n",
            "Requirement already satisfied: pygments in /usr/local/lib/python3.7/dist-packages (from ipython->kora) (2.6.1)\n",
            "Requirement already satisfied: pickleshare in /usr/local/lib/python3.7/dist-packages (from ipython->kora) (0.7.5)\n",
            "Requirement already satisfied: traitlets>=4.2 in /usr/local/lib/python3.7/dist-packages (from ipython->kora) (5.0.5)\n",
            "Requirement already satisfied: decorator in /usr/local/lib/python3.7/dist-packages (from ipython->kora) (4.4.2)\n",
            "Requirement already satisfied: prompt-toolkit<2.0.0,>=1.0.4 in /usr/local/lib/python3.7/dist-packages (from ipython->kora) (1.0.18)\n",
            "Requirement already satisfied: setuptools>=18.5 in /usr/local/lib/python3.7/dist-packages (from ipython->kora) (57.4.0)\n",
            "Requirement already satisfied: six>=1.9.0 in /usr/local/lib/python3.7/dist-packages (from prompt-toolkit<2.0.0,>=1.0.4->ipython->kora) (1.15.0)\n",
            "Requirement already satisfied: wcwidth in /usr/local/lib/python3.7/dist-packages (from prompt-toolkit<2.0.0,>=1.0.4->ipython->kora) (0.2.5)\n",
            "Requirement already satisfied: ipython-genutils in /usr/local/lib/python3.7/dist-packages (from traitlets>=4.2->ipython->kora) (0.2.0)\n",
            "Requirement already satisfied: pyparsing>=2.0.2 in /usr/local/lib/python3.7/dist-packages (from packaging->fastcore->kora) (2.4.7)\n",
            "Requirement already satisfied: ptyprocess>=0.5 in /usr/local/lib/python3.7/dist-packages (from pexpect->ipython->kora) (0.7.0)\n",
            "Installing collected packages: fastcore, kora\n",
            "Successfully installed fastcore-1.3.26 kora-0.9.19\n",
            "\n"
          ]
        }
      ]
    },
    {
      "cell_type": "code",
      "metadata": {
        "colab": {
          "base_uri": "https://localhost:8080/"
        },
        "id": "vs2iS0YRmKfE",
        "outputId": "5736f1d9-17b4-4ac7-f2a3-56fe12639320"
      },
      "source": [
        "!bash"
      ],
      "execution_count": null,
      "outputs": [
        {
          "output_type": "stream",
          "name": "stdout",
          "text": [
            "bash: cannot set terminal process group (65): Inappropriate ioctl for device\n",
            "bash: no job control in this shell\n",
            "\u001b[1;36m/content\u001b[m# ls\n",
            "\u001b[0m\u001b[01;34mconfig\u001b[0m  \u001b[01;34msample_data\u001b[0m\n",
            "\u001b[1;36m/content\u001b[m# cd config\n",
            "\u001b[1;36m/content/config\u001b[m# ls\n",
            "blacklist.txt  followed.txt  \u001b[0m\u001b[01;34mlog\u001b[0m          unfollowed.txt\n",
            "comments.txt   friends.txt   skipped.txt  whitelist.txt\n",
            "\u001b[1;36m/content/config\u001b[m# cd ../\n",
            "\u001b[1;36m/content\u001b[m# ls\n",
            "\u001b[0m\u001b[01;34mconfig\u001b[0m  \u001b[01;34msample_data\u001b[0m\n",
            "\u001b[1;36m/content\u001b[m# rm -r config\n",
            "\u001b[1;36m/content\u001b[m# ls\n",
            "\u001b[0m\u001b[01;34msample_data\u001b[0m\n",
            "\u001b[1;36m/content\u001b[m# \n",
            "\u001b[1;36m/content\u001b[m# \n",
            "\u001b[1;36m/content\u001b[m# exit\n"
          ]
        }
      ]
    },
    {
      "cell_type": "code",
      "metadata": {
        "colab": {
          "base_uri": "https://localhost:8080/"
        },
        "id": "_Y2PYKEklW5W",
        "outputId": "5db80e42-4e9b-4875-b9d3-490aaed612ef"
      },
      "source": [
        "!ls"
      ],
      "execution_count": null,
      "outputs": [
        {
          "output_type": "stream",
          "name": "stdout",
          "text": [
            "config\tsample_data\n"
          ]
        }
      ]
    },
    {
      "cell_type": "code",
      "metadata": {
        "colab": {
          "base_uri": "https://localhost:8080/",
          "height": 589
        },
        "id": "w4De_1FFb1QH",
        "outputId": "556de277-23a6-4c1c-f2fb-8fdb309c7776"
      },
      "source": [
        "import argparse\n",
        "import os\n",
        "import sys\n",
        "import time\n",
        "\n",
        "sys.path.append(os.path.join(sys.path[0], \"../\"))\n",
        "from instabot import Bot, utils  # noqa: E402\n",
        "\n",
        "\n",
        "\n",
        "bot = Bot()\n",
        "time.sleep(5)\n",
        "bot.login(username=\"@wyn.man\", password=\"Daytena@444\")\n",
        "users=[\"@wayanadan\"]\n",
        "\n",
        "f = utils.file('./followers.txt')\n",
        "for username in users:\n",
        "    followers = bot.get_user_followers(username)\n",
        "    f.save_list(followers)"
      ],
      "execution_count": null,
      "outputs": [
        {
          "output_type": "stream",
          "name": "stderr",
          "text": [
            "2021-09-04 16:45:47,666 - INFO - Instabot version: 0.117.0 Started\n",
            "2021-09-04 16:45:47,666 - INFO - Instabot version: 0.117.0 Started\n",
            "2021-09-04 16:45:52,680 - INFO - Not yet logged in starting: PRE-LOGIN FLOW!\n",
            "2021-09-04 16:45:52,680 - INFO - Not yet logged in starting: PRE-LOGIN FLOW!\n",
            "2021-09-04 16:45:52,864 - ERROR - Request returns 429 error!\n",
            "2021-09-04 16:45:52,864 - ERROR - Request returns 429 error!\n",
            "2021-09-04 16:45:52,872 - WARNING - That means 'too many requests'. I'll go to sleep for 5 minutes.\n",
            "2021-09-04 16:45:52,872 - WARNING - That means 'too many requests'. I'll go to sleep for 5 minutes.\n",
            "2021-09-04 16:50:53,131 - ERROR - Request returns 429 error!\n",
            "2021-09-04 16:50:53,131 - ERROR - Request returns 429 error!\n",
            "2021-09-04 16:50:53,135 - WARNING - That means 'too many requests'. I'll go to sleep for 10 minutes.\n",
            "2021-09-04 16:50:53,135 - WARNING - That means 'too many requests'. I'll go to sleep for 10 minutes.\n"
          ]
        },
        {
          "output_type": "error",
          "ename": "KeyboardInterrupt",
          "evalue": "ignored",
          "traceback": [
            "\u001b[0;31m---------------------------------------------------------------------------\u001b[0m",
            "\u001b[0;31mKeyboardInterrupt\u001b[0m                         Traceback (most recent call last)",
            "\u001b[0;32m<ipython-input-2-b6a75cb3410d>\u001b[0m in \u001b[0;36m<module>\u001b[0;34m()\u001b[0m\n\u001b[1;32m     11\u001b[0m \u001b[0mbot\u001b[0m \u001b[0;34m=\u001b[0m \u001b[0mBot\u001b[0m\u001b[0;34m(\u001b[0m\u001b[0;34m)\u001b[0m\u001b[0;34m\u001b[0m\u001b[0;34m\u001b[0m\u001b[0m\n\u001b[1;32m     12\u001b[0m \u001b[0mtime\u001b[0m\u001b[0;34m.\u001b[0m\u001b[0msleep\u001b[0m\u001b[0;34m(\u001b[0m\u001b[0;36m5\u001b[0m\u001b[0;34m)\u001b[0m\u001b[0;34m\u001b[0m\u001b[0;34m\u001b[0m\u001b[0m\n\u001b[0;32m---> 13\u001b[0;31m \u001b[0mbot\u001b[0m\u001b[0;34m.\u001b[0m\u001b[0mlogin\u001b[0m\u001b[0;34m(\u001b[0m\u001b[0musername\u001b[0m\u001b[0;34m=\u001b[0m\u001b[0;34m\"@wyn.man\"\u001b[0m\u001b[0;34m,\u001b[0m \u001b[0mpassword\u001b[0m\u001b[0;34m=\u001b[0m\u001b[0;34m\"Daytena@444\"\u001b[0m\u001b[0;34m)\u001b[0m\u001b[0;34m\u001b[0m\u001b[0;34m\u001b[0m\u001b[0m\n\u001b[0m\u001b[1;32m     14\u001b[0m \u001b[0musers\u001b[0m\u001b[0;34m=\u001b[0m\u001b[0;34m[\u001b[0m\u001b[0;34m\"@wayanadan\"\u001b[0m\u001b[0;34m]\u001b[0m\u001b[0;34m\u001b[0m\u001b[0;34m\u001b[0m\u001b[0m\n\u001b[1;32m     15\u001b[0m \u001b[0;34m\u001b[0m\u001b[0m\n",
            "\u001b[0;32m/usr/local/lib/python3.7/dist-packages/instabot/bot/bot.py\u001b[0m in \u001b[0;36mlogin\u001b[0;34m(self, **args)\u001b[0m\n\u001b[1;32m    441\u001b[0m         \u001b[0;32mif\u001b[0m \u001b[0mself\u001b[0m\u001b[0;34m.\u001b[0m\u001b[0mproxy\u001b[0m\u001b[0;34m:\u001b[0m\u001b[0;34m\u001b[0m\u001b[0;34m\u001b[0m\u001b[0m\n\u001b[1;32m    442\u001b[0m             \u001b[0margs\u001b[0m\u001b[0;34m[\u001b[0m\u001b[0;34m\"proxy\"\u001b[0m\u001b[0;34m]\u001b[0m \u001b[0;34m=\u001b[0m \u001b[0mself\u001b[0m\u001b[0;34m.\u001b[0m\u001b[0mproxy\u001b[0m\u001b[0;34m\u001b[0m\u001b[0;34m\u001b[0m\u001b[0m\n\u001b[0;32m--> 443\u001b[0;31m         \u001b[0;32mif\u001b[0m \u001b[0mself\u001b[0m\u001b[0;34m.\u001b[0m\u001b[0mapi\u001b[0m\u001b[0;34m.\u001b[0m\u001b[0mlogin\u001b[0m\u001b[0;34m(\u001b[0m\u001b[0;34m**\u001b[0m\u001b[0margs\u001b[0m\u001b[0;34m)\u001b[0m \u001b[0;32mis\u001b[0m \u001b[0;32mFalse\u001b[0m\u001b[0;34m:\u001b[0m\u001b[0;34m\u001b[0m\u001b[0;34m\u001b[0m\u001b[0m\n\u001b[0m\u001b[1;32m    444\u001b[0m             \u001b[0;32mreturn\u001b[0m \u001b[0;32mFalse\u001b[0m\u001b[0;34m\u001b[0m\u001b[0;34m\u001b[0m\u001b[0m\n\u001b[1;32m    445\u001b[0m         \u001b[0mself\u001b[0m\u001b[0;34m.\u001b[0m\u001b[0mprepare\u001b[0m\u001b[0;34m(\u001b[0m\u001b[0;34m)\u001b[0m\u001b[0;34m\u001b[0m\u001b[0;34m\u001b[0m\u001b[0m\n",
            "\u001b[0;32m/usr/local/lib/python3.7/dist-packages/instabot/api/api.py\u001b[0m in \u001b[0;36mlogin\u001b[0;34m(self, username, password, force, proxy, use_cookie, use_uuid, cookie_fname, ask_for_code, set_device, generate_all_uuids, is_threaded)\u001b[0m\n\u001b[1;32m    263\u001b[0m                     \u001b[0;32mif\u001b[0m \u001b[0mgenerate_all_uuids\u001b[0m \u001b[0;32mis\u001b[0m \u001b[0;32mTrue\u001b[0m\u001b[0;34m:\u001b[0m\u001b[0;34m\u001b[0m\u001b[0;34m\u001b[0m\u001b[0m\n\u001b[1;32m    264\u001b[0m                         \u001b[0mself\u001b[0m\u001b[0;34m.\u001b[0m\u001b[0mgenerate_all_uuids\u001b[0m\u001b[0;34m(\u001b[0m\u001b[0;34m)\u001b[0m\u001b[0;34m\u001b[0m\u001b[0;34m\u001b[0m\u001b[0m\n\u001b[0;32m--> 265\u001b[0;31m             \u001b[0mself\u001b[0m\u001b[0;34m.\u001b[0m\u001b[0mpre_login_flow\u001b[0m\u001b[0;34m(\u001b[0m\u001b[0;34m)\u001b[0m\u001b[0;34m\u001b[0m\u001b[0;34m\u001b[0m\u001b[0m\n\u001b[0m\u001b[1;32m    266\u001b[0m             data = json.dumps(\n\u001b[1;32m    267\u001b[0m                 {\n",
            "\u001b[0;32m/usr/local/lib/python3.7/dist-packages/instabot/api/api.py\u001b[0m in \u001b[0;36mpre_login_flow\u001b[0;34m(self)\u001b[0m\n\u001b[1;32m    179\u001b[0m \u001b[0;34m\u001b[0m\u001b[0m\n\u001b[1;32m    180\u001b[0m     \u001b[0;32mdef\u001b[0m \u001b[0mpre_login_flow\u001b[0m\u001b[0;34m(\u001b[0m\u001b[0mself\u001b[0m\u001b[0;34m)\u001b[0m\u001b[0;34m:\u001b[0m\u001b[0;34m\u001b[0m\u001b[0;34m\u001b[0m\u001b[0m\n\u001b[0;32m--> 181\u001b[0;31m         \u001b[0;32mreturn\u001b[0m \u001b[0mpre_login_flow\u001b[0m\u001b[0;34m(\u001b[0m\u001b[0mself\u001b[0m\u001b[0;34m)\u001b[0m\u001b[0;34m\u001b[0m\u001b[0;34m\u001b[0m\u001b[0m\n\u001b[0m\u001b[1;32m    182\u001b[0m \u001b[0;34m\u001b[0m\u001b[0m\n\u001b[1;32m    183\u001b[0m     \u001b[0;32mdef\u001b[0m \u001b[0mlogin_flow\u001b[0m\u001b[0;34m(\u001b[0m\u001b[0mself\u001b[0m\u001b[0;34m,\u001b[0m \u001b[0mjust_logged_in\u001b[0m\u001b[0;34m=\u001b[0m\u001b[0;32mFalse\u001b[0m\u001b[0;34m,\u001b[0m \u001b[0mapp_refresh_interval\u001b[0m\u001b[0;34m=\u001b[0m\u001b[0;36m1800\u001b[0m\u001b[0;34m)\u001b[0m\u001b[0;34m:\u001b[0m\u001b[0;34m\u001b[0m\u001b[0;34m\u001b[0m\u001b[0m\n",
            "\u001b[0;32m/usr/local/lib/python3.7/dist-packages/instabot/api/api_login.py\u001b[0m in \u001b[0;36mpre_login_flow\u001b[0;34m(self)\u001b[0m\n\u001b[1;32m    109\u001b[0m \u001b[0;34m\u001b[0m\u001b[0m\n\u001b[1;32m    110\u001b[0m     \u001b[0;31m# /api/v1/accounts/get_prefill_candidates\u001b[0m\u001b[0;34m\u001b[0m\u001b[0;34m\u001b[0m\u001b[0;34m\u001b[0m\u001b[0m\n\u001b[0;32m--> 111\u001b[0;31m     \u001b[0mself\u001b[0m\u001b[0;34m.\u001b[0m\u001b[0mget_prefill_candidates\u001b[0m\u001b[0;34m(\u001b[0m\u001b[0;32mTrue\u001b[0m\u001b[0;34m)\u001b[0m\u001b[0;34m\u001b[0m\u001b[0;34m\u001b[0m\u001b[0m\n\u001b[0m\u001b[1;32m    112\u001b[0m \u001b[0;34m\u001b[0m\u001b[0m\n\u001b[1;32m    113\u001b[0m     \u001b[0;31m# /api/v1/qe/sync (server_config_retrieval)\u001b[0m\u001b[0;34m\u001b[0m\u001b[0;34m\u001b[0m\u001b[0;34m\u001b[0m\u001b[0m\n",
            "\u001b[0;32m/usr/local/lib/python3.7/dist-packages/instabot/api/api.py\u001b[0m in \u001b[0;36mget_prefill_candidates\u001b[0;34m(self, login)\u001b[0m\n\u001b[1;32m    167\u001b[0m \u001b[0;34m\u001b[0m\u001b[0m\n\u001b[1;32m    168\u001b[0m     \u001b[0;32mdef\u001b[0m \u001b[0mget_prefill_candidates\u001b[0m\u001b[0;34m(\u001b[0m\u001b[0mself\u001b[0m\u001b[0;34m,\u001b[0m \u001b[0mlogin\u001b[0m\u001b[0;34m=\u001b[0m\u001b[0;32mFalse\u001b[0m\u001b[0;34m)\u001b[0m\u001b[0;34m:\u001b[0m\u001b[0;34m\u001b[0m\u001b[0;34m\u001b[0m\u001b[0m\n\u001b[0;32m--> 169\u001b[0;31m         \u001b[0;32mreturn\u001b[0m \u001b[0mget_prefill_candidates\u001b[0m\u001b[0;34m(\u001b[0m\u001b[0mself\u001b[0m\u001b[0;34m,\u001b[0m \u001b[0mlogin\u001b[0m\u001b[0;34m)\u001b[0m\u001b[0;34m\u001b[0m\u001b[0;34m\u001b[0m\u001b[0m\n\u001b[0m\u001b[1;32m    170\u001b[0m \u001b[0;34m\u001b[0m\u001b[0m\n\u001b[1;32m    171\u001b[0m     \u001b[0;32mdef\u001b[0m \u001b[0mget_account_family\u001b[0m\u001b[0;34m(\u001b[0m\u001b[0mself\u001b[0m\u001b[0;34m)\u001b[0m\u001b[0;34m:\u001b[0m\u001b[0;34m\u001b[0m\u001b[0;34m\u001b[0m\u001b[0m\n",
            "\u001b[0;32m/usr/local/lib/python3.7/dist-packages/instabot/api/api_login.py\u001b[0m in \u001b[0;36mget_prefill_candidates\u001b[0;34m(self, login)\u001b[0m\n\u001b[1;32m     67\u001b[0m         \u001b[0mdata\u001b[0m\u001b[0;34m[\u001b[0m\u001b[0;34m\"_csrftoken\"\u001b[0m\u001b[0;34m]\u001b[0m \u001b[0;34m=\u001b[0m \u001b[0mself\u001b[0m\u001b[0;34m.\u001b[0m\u001b[0mtoken\u001b[0m\u001b[0;34m\u001b[0m\u001b[0;34m\u001b[0m\u001b[0m\n\u001b[1;32m     68\u001b[0m     \u001b[0mdata\u001b[0m \u001b[0;34m=\u001b[0m \u001b[0mjson\u001b[0m\u001b[0;34m.\u001b[0m\u001b[0mdumps\u001b[0m\u001b[0;34m(\u001b[0m\u001b[0mdata\u001b[0m\u001b[0;34m)\u001b[0m\u001b[0;34m\u001b[0m\u001b[0;34m\u001b[0m\u001b[0m\n\u001b[0;32m---> 69\u001b[0;31m     \u001b[0;32mreturn\u001b[0m \u001b[0mself\u001b[0m\u001b[0;34m.\u001b[0m\u001b[0msend_request\u001b[0m\u001b[0;34m(\u001b[0m\u001b[0;34m\"accounts/get_prefill_candidates/\"\u001b[0m\u001b[0;34m,\u001b[0m \u001b[0mdata\u001b[0m\u001b[0;34m,\u001b[0m \u001b[0mlogin\u001b[0m\u001b[0;34m=\u001b[0m\u001b[0mlogin\u001b[0m\u001b[0;34m)\u001b[0m\u001b[0;34m\u001b[0m\u001b[0;34m\u001b[0m\u001b[0m\n\u001b[0m\u001b[1;32m     70\u001b[0m \u001b[0;34m\u001b[0m\u001b[0m\n\u001b[1;32m     71\u001b[0m \u001b[0;34m\u001b[0m\u001b[0m\n",
            "\u001b[0;32m/usr/local/lib/python3.7/dist-packages/instabot/api/api.py\u001b[0m in \u001b[0;36msend_request\u001b[0;34m(self, endpoint, post, login, with_signature, headers, extra_sig, timeout_minutes)\u001b[0m\n\u001b[1;32m    582\u001b[0m                     \u001b[0mheaders\u001b[0m\u001b[0;34m,\u001b[0m\u001b[0;34m\u001b[0m\u001b[0;34m\u001b[0m\u001b[0m\n\u001b[1;32m    583\u001b[0m                     \u001b[0mextra_sig\u001b[0m\u001b[0;34m,\u001b[0m\u001b[0;34m\u001b[0m\u001b[0;34m\u001b[0m\u001b[0m\n\u001b[0;32m--> 584\u001b[0;31m                     \u001b[0mtimeout_minutes\u001b[0m\u001b[0;34m,\u001b[0m\u001b[0;34m\u001b[0m\u001b[0;34m\u001b[0m\u001b[0m\n\u001b[0m\u001b[1;32m    585\u001b[0m                 )\n\u001b[1;32m    586\u001b[0m             \u001b[0;32mif\u001b[0m \u001b[0mresponse\u001b[0m\u001b[0;34m.\u001b[0m\u001b[0mstatus_code\u001b[0m \u001b[0;34m==\u001b[0m \u001b[0;36m400\u001b[0m\u001b[0;34m:\u001b[0m\u001b[0;34m\u001b[0m\u001b[0;34m\u001b[0m\u001b[0m\n",
            "\u001b[0;32m/usr/local/lib/python3.7/dist-packages/instabot/api/api.py\u001b[0m in \u001b[0;36msend_request\u001b[0;34m(self, endpoint, post, login, with_signature, headers, extra_sig, timeout_minutes)\u001b[0m\n\u001b[1;32m    574\u001b[0m                     \u001b[0;34m\"for {} minutes.\"\u001b[0m\u001b[0;34m.\u001b[0m\u001b[0mformat\u001b[0m\u001b[0;34m(\u001b[0m\u001b[0mtimeout_minutes\u001b[0m\u001b[0;34m)\u001b[0m\u001b[0;34m\u001b[0m\u001b[0;34m\u001b[0m\u001b[0m\n\u001b[1;32m    575\u001b[0m                 )\n\u001b[0;32m--> 576\u001b[0;31m                 \u001b[0mtime\u001b[0m\u001b[0;34m.\u001b[0m\u001b[0msleep\u001b[0m\u001b[0;34m(\u001b[0m\u001b[0mtimeout_minutes\u001b[0m \u001b[0;34m*\u001b[0m \u001b[0;36m60\u001b[0m\u001b[0;34m)\u001b[0m\u001b[0;34m\u001b[0m\u001b[0;34m\u001b[0m\u001b[0m\n\u001b[0m\u001b[1;32m    577\u001b[0m                 return self.send_request(\n\u001b[1;32m    578\u001b[0m                     \u001b[0mendpoint\u001b[0m\u001b[0;34m,\u001b[0m\u001b[0;34m\u001b[0m\u001b[0;34m\u001b[0m\u001b[0m\n",
            "\u001b[0;31mKeyboardInterrupt\u001b[0m: "
          ]
        }
      ]
    },
    {
      "cell_type": "code",
      "metadata": {
        "colab": {
          "base_uri": "https://localhost:8080/",
          "height": 370
        },
        "id": "-uGG5b_mYesu",
        "outputId": "413b4c23-6e63-4cbe-f789-3225e6277eb5"
      },
      "source": [
        ""
      ],
      "execution_count": null,
      "outputs": [
        {
          "output_type": "stream",
          "name": "stderr",
          "text": [
            "2021-09-04 15:29:19,991 - INFO - Not yet logged in starting: PRE-LOGIN FLOW!\n",
            "2021-09-04 15:29:20,141 - ERROR - Request returns 429 error!\n",
            "2021-09-04 15:29:20,142 - WARNING - That means 'too many requests'. I'll go to sleep for 5 minutes.\n"
          ]
        },
        {
          "output_type": "error",
          "ename": "KeyboardInterrupt",
          "evalue": "ignored",
          "traceback": [
            "\u001b[0;31m---------------------------------------------------------------------------\u001b[0m",
            "\u001b[0;31mKeyboardInterrupt\u001b[0m                         Traceback (most recent call last)",
            "\u001b[0;32m<ipython-input-5-3dbf6c51e9c7>\u001b[0m in \u001b[0;36m<module>\u001b[0;34m()\u001b[0m\n\u001b[0;32m----> 1\u001b[0;31m \u001b[0mbot\u001b[0m\u001b[0;34m.\u001b[0m\u001b[0mlogin\u001b[0m\u001b[0;34m(\u001b[0m\u001b[0musername\u001b[0m\u001b[0;34m=\u001b[0m\u001b[0;34m\"wyn.man\"\u001b[0m\u001b[0;34m,\u001b[0m\u001b[0mpassword\u001b[0m\u001b[0;34m=\u001b[0m\u001b[0;34m\"Daytena@444\"\u001b[0m\u001b[0;34m)\u001b[0m\u001b[0;34m\u001b[0m\u001b[0;34m\u001b[0m\u001b[0m\n\u001b[0m",
            "\u001b[0;32m/usr/local/lib/python3.7/dist-packages/instabot/bot/bot.py\u001b[0m in \u001b[0;36mlogin\u001b[0;34m(self, **args)\u001b[0m\n\u001b[1;32m    441\u001b[0m         \u001b[0;32mif\u001b[0m \u001b[0mself\u001b[0m\u001b[0;34m.\u001b[0m\u001b[0mproxy\u001b[0m\u001b[0;34m:\u001b[0m\u001b[0;34m\u001b[0m\u001b[0;34m\u001b[0m\u001b[0m\n\u001b[1;32m    442\u001b[0m             \u001b[0margs\u001b[0m\u001b[0;34m[\u001b[0m\u001b[0;34m\"proxy\"\u001b[0m\u001b[0;34m]\u001b[0m \u001b[0;34m=\u001b[0m \u001b[0mself\u001b[0m\u001b[0;34m.\u001b[0m\u001b[0mproxy\u001b[0m\u001b[0;34m\u001b[0m\u001b[0;34m\u001b[0m\u001b[0m\n\u001b[0;32m--> 443\u001b[0;31m         \u001b[0;32mif\u001b[0m \u001b[0mself\u001b[0m\u001b[0;34m.\u001b[0m\u001b[0mapi\u001b[0m\u001b[0;34m.\u001b[0m\u001b[0mlogin\u001b[0m\u001b[0;34m(\u001b[0m\u001b[0;34m**\u001b[0m\u001b[0margs\u001b[0m\u001b[0;34m)\u001b[0m \u001b[0;32mis\u001b[0m \u001b[0;32mFalse\u001b[0m\u001b[0;34m:\u001b[0m\u001b[0;34m\u001b[0m\u001b[0;34m\u001b[0m\u001b[0m\n\u001b[0m\u001b[1;32m    444\u001b[0m             \u001b[0;32mreturn\u001b[0m \u001b[0;32mFalse\u001b[0m\u001b[0;34m\u001b[0m\u001b[0;34m\u001b[0m\u001b[0m\n\u001b[1;32m    445\u001b[0m         \u001b[0mself\u001b[0m\u001b[0;34m.\u001b[0m\u001b[0mprepare\u001b[0m\u001b[0;34m(\u001b[0m\u001b[0;34m)\u001b[0m\u001b[0;34m\u001b[0m\u001b[0;34m\u001b[0m\u001b[0m\n",
            "\u001b[0;32m/usr/local/lib/python3.7/dist-packages/instabot/api/api.py\u001b[0m in \u001b[0;36mlogin\u001b[0;34m(self, username, password, force, proxy, use_cookie, use_uuid, cookie_fname, ask_for_code, set_device, generate_all_uuids, is_threaded)\u001b[0m\n\u001b[1;32m    263\u001b[0m                     \u001b[0;32mif\u001b[0m \u001b[0mgenerate_all_uuids\u001b[0m \u001b[0;32mis\u001b[0m \u001b[0;32mTrue\u001b[0m\u001b[0;34m:\u001b[0m\u001b[0;34m\u001b[0m\u001b[0;34m\u001b[0m\u001b[0m\n\u001b[1;32m    264\u001b[0m                         \u001b[0mself\u001b[0m\u001b[0;34m.\u001b[0m\u001b[0mgenerate_all_uuids\u001b[0m\u001b[0;34m(\u001b[0m\u001b[0;34m)\u001b[0m\u001b[0;34m\u001b[0m\u001b[0;34m\u001b[0m\u001b[0m\n\u001b[0;32m--> 265\u001b[0;31m             \u001b[0mself\u001b[0m\u001b[0;34m.\u001b[0m\u001b[0mpre_login_flow\u001b[0m\u001b[0;34m(\u001b[0m\u001b[0;34m)\u001b[0m\u001b[0;34m\u001b[0m\u001b[0;34m\u001b[0m\u001b[0m\n\u001b[0m\u001b[1;32m    266\u001b[0m             data = json.dumps(\n\u001b[1;32m    267\u001b[0m                 {\n",
            "\u001b[0;32m/usr/local/lib/python3.7/dist-packages/instabot/api/api.py\u001b[0m in \u001b[0;36mpre_login_flow\u001b[0;34m(self)\u001b[0m\n\u001b[1;32m    179\u001b[0m \u001b[0;34m\u001b[0m\u001b[0m\n\u001b[1;32m    180\u001b[0m     \u001b[0;32mdef\u001b[0m \u001b[0mpre_login_flow\u001b[0m\u001b[0;34m(\u001b[0m\u001b[0mself\u001b[0m\u001b[0;34m)\u001b[0m\u001b[0;34m:\u001b[0m\u001b[0;34m\u001b[0m\u001b[0;34m\u001b[0m\u001b[0m\n\u001b[0;32m--> 181\u001b[0;31m         \u001b[0;32mreturn\u001b[0m \u001b[0mpre_login_flow\u001b[0m\u001b[0;34m(\u001b[0m\u001b[0mself\u001b[0m\u001b[0;34m)\u001b[0m\u001b[0;34m\u001b[0m\u001b[0;34m\u001b[0m\u001b[0m\n\u001b[0m\u001b[1;32m    182\u001b[0m \u001b[0;34m\u001b[0m\u001b[0m\n\u001b[1;32m    183\u001b[0m     \u001b[0;32mdef\u001b[0m \u001b[0mlogin_flow\u001b[0m\u001b[0;34m(\u001b[0m\u001b[0mself\u001b[0m\u001b[0;34m,\u001b[0m \u001b[0mjust_logged_in\u001b[0m\u001b[0;34m=\u001b[0m\u001b[0;32mFalse\u001b[0m\u001b[0;34m,\u001b[0m \u001b[0mapp_refresh_interval\u001b[0m\u001b[0;34m=\u001b[0m\u001b[0;36m1800\u001b[0m\u001b[0;34m)\u001b[0m\u001b[0;34m:\u001b[0m\u001b[0;34m\u001b[0m\u001b[0;34m\u001b[0m\u001b[0m\n",
            "\u001b[0;32m/usr/local/lib/python3.7/dist-packages/instabot/api/api_login.py\u001b[0m in \u001b[0;36mpre_login_flow\u001b[0;34m(self)\u001b[0m\n\u001b[1;32m    109\u001b[0m \u001b[0;34m\u001b[0m\u001b[0m\n\u001b[1;32m    110\u001b[0m     \u001b[0;31m# /api/v1/accounts/get_prefill_candidates\u001b[0m\u001b[0;34m\u001b[0m\u001b[0;34m\u001b[0m\u001b[0;34m\u001b[0m\u001b[0m\n\u001b[0;32m--> 111\u001b[0;31m     \u001b[0mself\u001b[0m\u001b[0;34m.\u001b[0m\u001b[0mget_prefill_candidates\u001b[0m\u001b[0;34m(\u001b[0m\u001b[0;32mTrue\u001b[0m\u001b[0;34m)\u001b[0m\u001b[0;34m\u001b[0m\u001b[0;34m\u001b[0m\u001b[0m\n\u001b[0m\u001b[1;32m    112\u001b[0m \u001b[0;34m\u001b[0m\u001b[0m\n\u001b[1;32m    113\u001b[0m     \u001b[0;31m# /api/v1/qe/sync (server_config_retrieval)\u001b[0m\u001b[0;34m\u001b[0m\u001b[0;34m\u001b[0m\u001b[0;34m\u001b[0m\u001b[0m\n",
            "\u001b[0;32m/usr/local/lib/python3.7/dist-packages/instabot/api/api.py\u001b[0m in \u001b[0;36mget_prefill_candidates\u001b[0;34m(self, login)\u001b[0m\n\u001b[1;32m    167\u001b[0m \u001b[0;34m\u001b[0m\u001b[0m\n\u001b[1;32m    168\u001b[0m     \u001b[0;32mdef\u001b[0m \u001b[0mget_prefill_candidates\u001b[0m\u001b[0;34m(\u001b[0m\u001b[0mself\u001b[0m\u001b[0;34m,\u001b[0m \u001b[0mlogin\u001b[0m\u001b[0;34m=\u001b[0m\u001b[0;32mFalse\u001b[0m\u001b[0;34m)\u001b[0m\u001b[0;34m:\u001b[0m\u001b[0;34m\u001b[0m\u001b[0;34m\u001b[0m\u001b[0m\n\u001b[0;32m--> 169\u001b[0;31m         \u001b[0;32mreturn\u001b[0m \u001b[0mget_prefill_candidates\u001b[0m\u001b[0;34m(\u001b[0m\u001b[0mself\u001b[0m\u001b[0;34m,\u001b[0m \u001b[0mlogin\u001b[0m\u001b[0;34m)\u001b[0m\u001b[0;34m\u001b[0m\u001b[0;34m\u001b[0m\u001b[0m\n\u001b[0m\u001b[1;32m    170\u001b[0m \u001b[0;34m\u001b[0m\u001b[0m\n\u001b[1;32m    171\u001b[0m     \u001b[0;32mdef\u001b[0m \u001b[0mget_account_family\u001b[0m\u001b[0;34m(\u001b[0m\u001b[0mself\u001b[0m\u001b[0;34m)\u001b[0m\u001b[0;34m:\u001b[0m\u001b[0;34m\u001b[0m\u001b[0;34m\u001b[0m\u001b[0m\n",
            "\u001b[0;32m/usr/local/lib/python3.7/dist-packages/instabot/api/api_login.py\u001b[0m in \u001b[0;36mget_prefill_candidates\u001b[0;34m(self, login)\u001b[0m\n\u001b[1;32m     67\u001b[0m         \u001b[0mdata\u001b[0m\u001b[0;34m[\u001b[0m\u001b[0;34m\"_csrftoken\"\u001b[0m\u001b[0;34m]\u001b[0m \u001b[0;34m=\u001b[0m \u001b[0mself\u001b[0m\u001b[0;34m.\u001b[0m\u001b[0mtoken\u001b[0m\u001b[0;34m\u001b[0m\u001b[0;34m\u001b[0m\u001b[0m\n\u001b[1;32m     68\u001b[0m     \u001b[0mdata\u001b[0m \u001b[0;34m=\u001b[0m \u001b[0mjson\u001b[0m\u001b[0;34m.\u001b[0m\u001b[0mdumps\u001b[0m\u001b[0;34m(\u001b[0m\u001b[0mdata\u001b[0m\u001b[0;34m)\u001b[0m\u001b[0;34m\u001b[0m\u001b[0;34m\u001b[0m\u001b[0m\n\u001b[0;32m---> 69\u001b[0;31m     \u001b[0;32mreturn\u001b[0m \u001b[0mself\u001b[0m\u001b[0;34m.\u001b[0m\u001b[0msend_request\u001b[0m\u001b[0;34m(\u001b[0m\u001b[0;34m\"accounts/get_prefill_candidates/\"\u001b[0m\u001b[0;34m,\u001b[0m \u001b[0mdata\u001b[0m\u001b[0;34m,\u001b[0m \u001b[0mlogin\u001b[0m\u001b[0;34m=\u001b[0m\u001b[0mlogin\u001b[0m\u001b[0;34m)\u001b[0m\u001b[0;34m\u001b[0m\u001b[0;34m\u001b[0m\u001b[0m\n\u001b[0m\u001b[1;32m     70\u001b[0m \u001b[0;34m\u001b[0m\u001b[0m\n\u001b[1;32m     71\u001b[0m \u001b[0;34m\u001b[0m\u001b[0m\n",
            "\u001b[0;32m/usr/local/lib/python3.7/dist-packages/instabot/api/api.py\u001b[0m in \u001b[0;36msend_request\u001b[0;34m(self, endpoint, post, login, with_signature, headers, extra_sig, timeout_minutes)\u001b[0m\n\u001b[1;32m    574\u001b[0m                     \u001b[0;34m\"for {} minutes.\"\u001b[0m\u001b[0;34m.\u001b[0m\u001b[0mformat\u001b[0m\u001b[0;34m(\u001b[0m\u001b[0mtimeout_minutes\u001b[0m\u001b[0;34m)\u001b[0m\u001b[0;34m\u001b[0m\u001b[0;34m\u001b[0m\u001b[0m\n\u001b[1;32m    575\u001b[0m                 )\n\u001b[0;32m--> 576\u001b[0;31m                 \u001b[0mtime\u001b[0m\u001b[0;34m.\u001b[0m\u001b[0msleep\u001b[0m\u001b[0;34m(\u001b[0m\u001b[0mtimeout_minutes\u001b[0m \u001b[0;34m*\u001b[0m \u001b[0;36m60\u001b[0m\u001b[0;34m)\u001b[0m\u001b[0;34m\u001b[0m\u001b[0;34m\u001b[0m\u001b[0m\n\u001b[0m\u001b[1;32m    577\u001b[0m                 return self.send_request(\n\u001b[1;32m    578\u001b[0m                     \u001b[0mendpoint\u001b[0m\u001b[0;34m,\u001b[0m\u001b[0;34m\u001b[0m\u001b[0;34m\u001b[0m\u001b[0m\n",
            "\u001b[0;31mKeyboardInterrupt\u001b[0m: "
          ]
        }
      ]
    },
    {
      "cell_type": "code",
      "metadata": {
        "id": "XorA9VmDZ2Ju"
      },
      "source": [
        "followers=bot.get_user_followers(\"wayanadan\")\n",
        "\n",
        "for follower in followers:\n",
        "  print(bot.get_user_info(follower))"
      ],
      "execution_count": null,
      "outputs": []
    },
    {
      "cell_type": "code",
      "metadata": {
        "id": "_O-_CfuQaPUP"
      },
      "source": [
        ""
      ],
      "execution_count": null,
      "outputs": []
    }
  ]
}